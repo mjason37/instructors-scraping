{
 "cells": [
  {
   "cell_type": "code",
   "execution_count": 1,
   "metadata": {},
   "outputs": [],
   "source": [
    "# Import required modules\n",
    "import pandas as pd\n",
    "from datetime import datetime\n",
    "today = datetime.today().date().strftime(\"%d_%b\")"
   ]
  },
  {
   "cell_type": "code",
   "execution_count": 2,
   "metadata": {},
   "outputs": [
    {
     "data": {
      "text/plain": [
       "1"
      ]
     },
     "execution_count": 2,
     "metadata": {},
     "output_type": "execute_result"
    }
   ],
   "source": [
    "# We would use use pandas read html method to scrape the table info\n",
    "# This returns a list of dataframes\n",
    "listOfDfs = pd.read_html(\"https://www.ed.ac.uk/education/about-us/people/academic-staff-a-z\")\n",
    "len(listOfDfs)"
   ]
  },
  {
   "cell_type": "code",
   "execution_count": 3,
   "metadata": {},
   "outputs": [
    {
     "data": {
      "text/html": [
       "<div>\n",
       "<style scoped>\n",
       "    .dataframe tbody tr th:only-of-type {\n",
       "        vertical-align: middle;\n",
       "    }\n",
       "\n",
       "    .dataframe tbody tr th {\n",
       "        vertical-align: top;\n",
       "    }\n",
       "\n",
       "    .dataframe thead th {\n",
       "        text-align: right;\n",
       "    }\n",
       "</style>\n",
       "<table border=\"1\" class=\"dataframe\">\n",
       "  <thead>\n",
       "    <tr style=\"text-align: right;\">\n",
       "      <th></th>\n",
       "      <th>Name (sorted in ascending order)</th>\n",
       "      <th>Role</th>\n",
       "      <th>Email</th>\n",
       "      <th>Phone number</th>\n",
       "    </tr>\n",
       "  </thead>\n",
       "  <tbody>\n",
       "    <tr>\n",
       "      <th>0</th>\n",
       "      <td>Dr Serdar Abaci</td>\n",
       "      <td>Lecturer in Data and Digital Literacies</td>\n",
       "      <td>serdar.abaci@ed.ac.uk</td>\n",
       "      <td>NaN</td>\n",
       "    </tr>\n",
       "    <tr>\n",
       "      <th>1</th>\n",
       "      <td>Stephanie Adams</td>\n",
       "      <td>Research Fellow</td>\n",
       "      <td>stephanie.adams@ed.ac.uk</td>\n",
       "      <td>+44 (0)131 651 6576</td>\n",
       "    </tr>\n",
       "    <tr>\n",
       "      <th>2</th>\n",
       "      <td>Dr Ramsey Affifi</td>\n",
       "      <td>Lecturer, Science (Biology) &amp; Environmental Ph...</td>\n",
       "      <td>ramsey.affifi@ed.ac.uk</td>\n",
       "      <td>+44 (0)131 651 6207</td>\n",
       "    </tr>\n",
       "    <tr>\n",
       "      <th>3</th>\n",
       "      <td>Dr Farah Akbar</td>\n",
       "      <td>Programme Director: MSc Language Education / S...</td>\n",
       "      <td>farah.akbar@ed.ac.uk</td>\n",
       "      <td>+44 (0)131 651 6445</td>\n",
       "    </tr>\n",
       "    <tr>\n",
       "      <th>4</th>\n",
       "      <td>Ramone Al Bishawi</td>\n",
       "      <td>Research Assistant</td>\n",
       "      <td>ramone.bishawi@ed.ac.uk</td>\n",
       "      <td>+44 (0)131 651 7112</td>\n",
       "    </tr>\n",
       "    <tr>\n",
       "      <th>5</th>\n",
       "      <td>Dr Maryam Almohammad</td>\n",
       "      <td>Teaching Fellow in Language Education</td>\n",
       "      <td>maryam.almohammad@ed.ac.uk</td>\n",
       "      <td>+44 (0)131 650 2796</td>\n",
       "    </tr>\n",
       "    <tr>\n",
       "      <th>6</th>\n",
       "      <td>Professor Richard Andrews</td>\n",
       "      <td>Head of Moray House School of Education and Sport</td>\n",
       "      <td>richard.andrews@ed.ac.uk</td>\n",
       "      <td>+44 (0)131 651 6167</td>\n",
       "    </tr>\n",
       "    <tr>\n",
       "      <th>7</th>\n",
       "      <td>Lorraine Archibald</td>\n",
       "      <td>Teaching Fellow (Primary Education)</td>\n",
       "      <td>lorraine.archibald@ed.ac.uk</td>\n",
       "      <td>+44 (0)131 651 6418</td>\n",
       "    </tr>\n",
       "    <tr>\n",
       "      <th>8</th>\n",
       "      <td>Professor Rowena Arshad CBE, FEIS</td>\n",
       "      <td>Chair in Multicultural and Anti-Racist Educati...</td>\n",
       "      <td>rowena.arshad@ed.ac.uk</td>\n",
       "      <td>+44 (0)131 651 6640</td>\n",
       "    </tr>\n",
       "    <tr>\n",
       "      <th>9</th>\n",
       "      <td>Dr Graham Baker</td>\n",
       "      <td>Lecturer in Physical Activity for Health</td>\n",
       "      <td>graham.baker@ed.ac.uk</td>\n",
       "      <td>+44 (0)131 651 6034</td>\n",
       "    </tr>\n",
       "  </tbody>\n",
       "</table>\n",
       "</div>"
      ],
      "text/plain": [
       "    Name (sorted in ascending order)  \\\n",
       "0                    Dr Serdar Abaci   \n",
       "1                    Stephanie Adams   \n",
       "2                   Dr Ramsey Affifi   \n",
       "3                     Dr Farah Akbar   \n",
       "4                  Ramone Al Bishawi   \n",
       "5               Dr Maryam Almohammad   \n",
       "6          Professor Richard Andrews   \n",
       "7                 Lorraine Archibald   \n",
       "8  Professor Rowena Arshad CBE, FEIS   \n",
       "9                    Dr Graham Baker   \n",
       "\n",
       "                                                Role  \\\n",
       "0            Lecturer in Data and Digital Literacies   \n",
       "1                                    Research Fellow   \n",
       "2  Lecturer, Science (Biology) & Environmental Ph...   \n",
       "3  Programme Director: MSc Language Education / S...   \n",
       "4                                 Research Assistant   \n",
       "5              Teaching Fellow in Language Education   \n",
       "6  Head of Moray House School of Education and Sport   \n",
       "7                Teaching Fellow (Primary Education)   \n",
       "8  Chair in Multicultural and Anti-Racist Educati...   \n",
       "9           Lecturer in Physical Activity for Health   \n",
       "\n",
       "                         Email         Phone number  \n",
       "0        serdar.abaci@ed.ac.uk                  NaN  \n",
       "1     stephanie.adams@ed.ac.uk  +44 (0)131 651 6576  \n",
       "2       ramsey.affifi@ed.ac.uk  +44 (0)131 651 6207  \n",
       "3         farah.akbar@ed.ac.uk  +44 (0)131 651 6445  \n",
       "4      ramone.bishawi@ed.ac.uk  +44 (0)131 651 7112  \n",
       "5   maryam.almohammad@ed.ac.uk  +44 (0)131 650 2796  \n",
       "6     richard.andrews@ed.ac.uk  +44 (0)131 651 6167  \n",
       "7  lorraine.archibald@ed.ac.uk  +44 (0)131 651 6418  \n",
       "8       rowena.arshad@ed.ac.uk  +44 (0)131 651 6640  \n",
       "9        graham.baker@ed.ac.uk  +44 (0)131 651 6034  "
      ]
     },
     "execution_count": 3,
     "metadata": {},
     "output_type": "execute_result"
    }
   ],
   "source": [
    "# Since the length of the list is 1, so get the dataframe out of the table by\n",
    "df = pd.concat(listOfDfs) # or, listOfDf[0]\n",
    "# Check what we have\n",
    "df.head(10)"
   ]
  },
  {
   "cell_type": "code",
   "execution_count": 4,
   "metadata": {},
   "outputs": [],
   "source": [
    "# Save as csv\n",
    "df.to_csv(f\"universityOfEdinburghStaffs_{today}.csv\", index=None)"
   ]
  }
 ],
 "metadata": {
  "kernelspec": {
   "display_name": "Python 3",
   "language": "python",
   "name": "python3"
  },
  "language_info": {
   "codemirror_mode": {
    "name": "ipython",
    "version": 3
   },
   "file_extension": ".py",
   "mimetype": "text/x-python",
   "name": "python",
   "nbconvert_exporter": "python",
   "pygments_lexer": "ipython3",
   "version": "3.7.6"
  }
 },
 "nbformat": 4,
 "nbformat_minor": 4
}
