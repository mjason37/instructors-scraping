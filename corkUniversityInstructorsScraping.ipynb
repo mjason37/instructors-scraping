{
 "cells": [
  {
   "cell_type": "code",
   "execution_count": 1,
   "metadata": {},
   "outputs": [],
   "source": [
    "# Import required modules\n",
    "import pandas as pd\n",
    "import requests\n",
    "from bs4 import BeautifulSoup\n",
    "from concurrent.futures import ThreadPoolExecutor\n",
    "import itertools\n",
    "from IPython.display import clear_output\n",
    "from datetime import datetime\n",
    "today = datetime.today().date().strftime(\"%d_%b\")"
   ]
  },
  {
   "cell_type": "code",
   "execution_count": 2,
   "metadata": {},
   "outputs": [],
   "source": [
    "def scrapeIndvidualStaffLinkAndDept(url):\n",
    "    \"\"\"Returns indvidual links.\"\"\"\n",
    "    \n",
    "    # To store indvidual staffs links\n",
    "    staffLink = []\n",
    "    dept = []\n",
    "    headers = {\"User-Agent\": \"Mozilla/5.0 (Macintosh; Intel Mac OS X 10_11_6) AppleWebKit/537.36 (KHTML, like Gecko) Chrome/61.0.3163.100 Safari/537.36\"}\n",
    "    r = requests.get(url, headers=headers)\n",
    "    s = BeautifulSoup(r.text, \"lxml\")\n",
    "    \n",
    "    # Scrape ind staffs links\n",
    "    for lnk in s.find_all(\"span\", class_=\"name\"):\n",
    "        staffLink.append(\"https://www.cubsucc.com/\"+lnk.find(\"a\").get(\"href\"))\n",
    "    \n",
    "    # Scrape dept also\n",
    "    for dpt in s.find_all(\"span\", class_=\"department\"):\n",
    "        dept.append(dpt.text.strip())\n",
    "    \n",
    "    df = pd.DataFrame({\n",
    "        \"staffLink\":staffLink,\n",
    "        \"dept\":dept\n",
    "    })\n",
    "    return df\n",
    "\n",
    "def scrapeStaffInfo(url):\n",
    "    \"\"\"Returns staff info.\"\"\"\n",
    "    \n",
    "    # Variables to scrape\n",
    "    name = []\n",
    "    details = []\n",
    "    staffLink = []\n",
    "    headers = {\"User-Agent\": \"Mozilla/5.0 (Macintosh; Intel Mac OS X 10_11_6) AppleWebKit/537.36 (KHTML, like Gecko) Chrome/61.0.3163.100 Safari/537.36\"}\n",
    "    r = requests.get(url)\n",
    "    s = BeautifulSoup(r.text, \"lxml\")\n",
    "    \n",
    "    # Get staff link\n",
    "    staffLink.append(url)\n",
    "    \n",
    "    # Name\n",
    "    try:\n",
    "        name.append(s.find(id=\"pageTitle\").text.strip())\n",
    "    except:\n",
    "        name.append(\"na\")\n",
    "        \n",
    "    # Details    \n",
    "    try:\n",
    "        details.append(s.find(\"div\", class_=\"profileInfoText\").text.strip())\n",
    "    except:\n",
    "        details.append(\"na\")\n",
    "        \n",
    "    # See the progress\n",
    "    print(f\"{url}\")\n",
    "    clear_output(wait=True)\n",
    "    \n",
    "    # Create a df off scrapes variables\n",
    "    df = pd.DataFrame({\n",
    "    \"name\":name,\n",
    "    \"staffLink\":staffLink,\n",
    "    \"details\":details\n",
    "    })\n",
    "    \n",
    "    return df"
   ]
  },
  {
   "cell_type": "code",
   "execution_count": 3,
   "metadata": {},
   "outputs": [],
   "source": [
    "# Wrap all the function inside main\n",
    "def main(url):\n",
    "    \"\"\"Use threading\"\"\"\n",
    "    \n",
    "    # This returns a df of staff link and dept.\n",
    "    staffLinkAndDept = scrapeIndvidualStaffLinkAndDept(url)\n",
    "    \n",
    "    # Scrape satff info\n",
    "    with ThreadPoolExecutor() as executor:\n",
    "        df = pd.concat(list(executor.map(scrapeStaffInfo, staffLinkAndDept.staffLink)))\n",
    "        \n",
    "    # Insert dept by merging two dfs on staff links  \n",
    "    mergedDept = pd.merge(df, staffLinkAndDept, on=\"staffLink\", how=\"left\")\n",
    "\n",
    "    return mergedDept"
   ]
  },
  {
   "cell_type": "code",
   "execution_count": null,
   "metadata": {},
   "outputs": [
    {
     "name": "stdout",
     "output_type": "stream",
     "text": [
      "https://www.cubsucc.com/faculty-directory/ms-claire-fennell/\n"
     ]
    }
   ],
   "source": [
    "%%time\n",
    "# Call the main function\n",
    "masterDf = main(\"https://www.cubsucc.com/faculty-directory/departments/\")\n",
    "\n",
    "# Let's see what we have\n",
    "masterDf.head(10)"
   ]
  },
  {
   "cell_type": "code",
   "execution_count": null,
   "metadata": {},
   "outputs": [],
   "source": [
    "# Create a csv file\n",
    "masterDf.to_csv(f\"corkUniversityStaffs_{today}.csv\", index=None)"
   ]
  }
 ],
 "metadata": {
  "kernelspec": {
   "display_name": "Python 3",
   "language": "python",
   "name": "python3"
  },
  "language_info": {
   "codemirror_mode": {
    "name": "ipython",
    "version": 3
   },
   "file_extension": ".py",
   "mimetype": "text/x-python",
   "name": "python",
   "nbconvert_exporter": "python",
   "pygments_lexer": "ipython3",
   "version": "3.7.6"
  }
 },
 "nbformat": 4,
 "nbformat_minor": 4
}
